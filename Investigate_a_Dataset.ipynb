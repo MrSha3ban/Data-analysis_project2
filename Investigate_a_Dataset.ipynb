{
 "cells": [
  {
   "cell_type": "markdown",
   "metadata": {},
   "source": [
    "<a id='Main'></a>\n",
    "<img src=\"https://storage.googleapis.com/kaggle-datasets-images/138/287/229bfb5d3dd1a49cc5ac899c45ca2213/dataset-cover.png\" >\n",
    "\n",
    "# Project: Investigate  TMDB Movie Dataset.\n",
    "\n",
    "\n",
    "<h2><span style=\"color: #0000ff;\"><strong>Please pick up a section in the report :</strong></span></h2>\n",
    "<ol style=\"list-style: none; font-size: 14px; line-height: 32px; font-weight: bold;\">\n",
    "    \n",
    "<ul>\n",
    "<li style=\"clear: both;\">\n",
    "<a href=\"#intro\"><img src=\"https://cdn.dribbble.com/users/400493/screenshots/2703191/hello.gif\" alt=\"Hi\" class=\"bg-primary mb-1\" width=\"200px\" align=\"left\"> \n",
    "<h2>Introduction</h2>\n",
    "\n",
    "    \n",
    "</a></li>\n",
    "<li style=\"clear: both;\">\n",
    "<a href=\"#wrangling\"><img src=\"https://thumbs.gfycat.com/ClearcutGrizzledHeron-small.gif\" alt=\"Wrangling\"  width=\"200px\" align=\"left\"> \n",
    "<h2>Data Wrangling.</h2>\n",
    "\n",
    "    \n",
    "</a></li>\n",
    "<li style=\"clear: both;\">\n",
    "<a href=\"#eda\"><img \n",
    "src=\"https://institute.careerguide.com/wp-content/uploads/2020/10/7a2fc27b966a50792117d375a24bb71e.gif\" alt=\"Explore\" class=\"bg-primary mb-1\" width=\"200px\" align=\"left\"> \n",
    "<h2>Exploratory Data Analysis.</h2>\n",
    "\n",
    "</a></li>\n",
    "<li style=\"clear: both;\">\n",
    "<a href=\"#conclusions\"><img \n",
    "src=\"https://www.sendiancreations.com/ar/wp-content/uploads/2019/05/opening.gif\" alt=\"Wrangling\" class=\"bg-primary mb-1\" width=\"200px\" align=\"left\"> \n",
    "<h2>Conclusions.</h2>\n",
    "\n",
    "</a></li>\n",
    "<p>&nbsp; &nbsp; &nbsp; &nbsp; &nbsp; &nbsp; &nbsp;</p>\n",
    "<p>&nbsp;</p>\n",
    "\n",
    "</ul>"
   ]
  },
  {
   "cell_type": "markdown",
   "metadata": {},
   "source": [
    "<img src=\"https://i.pinimg.com/736x/24/ab/fe/24abfe29add0647e3c0e82671b778e14.jpg\" width=\"300\"  align=\"right\">"
   ]
  },
  {
   "cell_type": "markdown",
   "metadata": {},
   "source": [
    "\n",
    "<a id='intro'></a>\n",
    "## Introduction\n",
    "\n",
    "\n",
    ">>\n",
    "**TMDB Movie Dataset**:This data set contains information\n",
    "about  10800 movies collected from\n",
    "The Movie Database (TMDb), I am going to Investigate some questions using it.\n",
    "\n",
    "> **We have in this dataset 21 columns**:\n",
    "'id',\n",
    " 'imdb_id',\n",
    " 'popularity',\n",
    " 'budget',\n",
    " 'revenue',\n",
    " 'original_title',\n",
    " 'cast',\n",
    " 'homepage',\n",
    " 'director',\n",
    " 'tagline',\n",
    " 'keywords',\n",
    " 'overview',\n",
    " 'runtime',\n",
    " 'genres',\n",
    " 'production_companies',\n",
    " 'release_date',\n",
    " 'vote_count',\n",
    " 'vote_average',\n",
    " 'release_year',\n",
    " 'budget_adj',\n",
    " 'revenue_adj'\n",
    "\n",
    "## I have two Questions to answer:\n",
    "\n",
    ">>**1.Does the revenue depends on the Budget spent?**\n",
    "\n",
    ">>**2.Which director is more professional \" used low budget and get high vote average for his movies\"?**"
   ]
  },
  {
   "cell_type": "markdown",
   "metadata": {},
   "source": [
    "#### Importing the liberaries  here!."
   ]
  },
  {
   "cell_type": "code",
   "execution_count": 1,
   "metadata": {},
   "outputs": [],
   "source": [
    "%matplotlib inline\n",
    "from IPython.core.display import display, HTML\n",
    "import ipywidgets as widgets # i will import ipywidgets to use some features like interact\n",
    "import pandas as pd\n",
    "import numpy as np\n",
    "import matplotlib.pyplot as plt"
   ]
  },
  {
   "cell_type": "markdown",
   "metadata": {},
   "source": [
    "#### Run the next cell to put data frames in solid borders ."
   ]
  },
  {
   "cell_type": "code",
   "execution_count": 2,
   "metadata": {},
   "outputs": [
    {
     "data": {
      "text/html": [
       "<style type=\"text/css\">\n",
       "table.dataframe td, table.dataframe th {border-style: solid;}\n",
       "<script type=\"text/javascript\">\n",
       "    Ipython.notebook.kernel.excute(\"f=12\")\n",
       "</script>\n"
      ],
      "text/plain": [
       "<IPython.core.display.HTML object>"
      ]
     },
     "metadata": {},
     "output_type": "display_data"
    }
   ],
   "source": [
    "%%HTML\n",
    "<style type=\"text/css\">\n",
    "table.dataframe td, table.dataframe th {border-style: solid;}\n",
    "<script type=\"text/javascript\">\n",
    "    Ipython.notebook.kernel.excute(\"f=12\")\n",
    "</script>"
   ]
  },
  {
   "cell_type": "markdown",
   "metadata": {},
   "source": [
    "<img src=\"https://i.pinimg.com/736x/24/ab/fe/24abfe29add0647e3c0e82671b778e14.jpg\" width=\"300\"  align=\"right\">\n"
   ]
  },
  {
   "cell_type": "markdown",
   "metadata": {},
   "source": [
    "<a id='wrangling'></a>\n",
    "## Data Wrangling\n",
    "\n",
    "> **Hint**: In this section of the report, I will load in the data and check for cleanliness. \n",
    "\n",
    "\n",
    "<img src=\"https://cdn.dribbble.com/users/43718/screenshots/1137873/loadinganimation1.gif\" width=\"150px\" align=\"left\">\n",
    "<br></br>\n",
    "<br></br>\n",
    "<h2>General Properties.</h2>\n",
    "\n"
   ]
  },
  {
   "cell_type": "code",
   "execution_count": 3,
   "metadata": {},
   "outputs": [],
   "source": [
    "# here i will read the data and define some functions to use them in widgets\n",
    "df=pd.read_csv('tmdb-movies.csv')\n",
    "temp_df=pd.DataFrame()\n",
    "def show_data(raw=0):\n",
    "    temp_df=df.loc[raw:raw+4]\n",
    "    return temp_df\n",
    "# the following function enables me to see the null values in columns later \n",
    "null_temp=pd.DataFrame()\n",
    "def check_null(Col='id'):\n",
    "    null_temp=df[df[Col].isnull()]\n",
    "    return null_temp"
   ]
  },
  {
   "cell_type": "markdown",
   "metadata": {},
   "source": [
    "### *Use the slider under the next cell to view the data 5 raws per time!"
   ]
  },
  {
   "cell_type": "code",
   "execution_count": 4,
   "metadata": {},
   "outputs": [
    {
     "data": {
      "application/vnd.jupyter.widget-view+json": {
       "model_id": "1d7646ea0bbc4e81ae45617f5b868582",
       "version_major": 2,
       "version_minor": 0
      },
      "text/plain": [
       "interactive(children=(IntSlider(value=1, description='raw', max=10865, min=1, step=5), Output()), _dom_classes…"
      ]
     },
     "metadata": {},
     "output_type": "display_data"
    }
   ],
   "source": [
    "#this code enables me to interact with df to see all raws ,5 raws per time\n",
    "widgets.interact(show_data,raw=(1,df.index.max(),5));"
   ]
  },
  {
   "cell_type": "code",
   "execution_count": 5,
   "metadata": {},
   "outputs": [
    {
     "name": "stdout",
     "output_type": "stream",
     "text": [
      "<class 'pandas.core.frame.DataFrame'>\n",
      "RangeIndex: 10866 entries, 0 to 10865\n",
      "Data columns (total 21 columns):\n",
      " #   Column                Non-Null Count  Dtype  \n",
      "---  ------                --------------  -----  \n",
      " 0   id                    10866 non-null  int64  \n",
      " 1   imdb_id               10856 non-null  object \n",
      " 2   popularity            10866 non-null  float64\n",
      " 3   budget                10866 non-null  int64  \n",
      " 4   revenue               10866 non-null  int64  \n",
      " 5   original_title        10866 non-null  object \n",
      " 6   cast                  10790 non-null  object \n",
      " 7   homepage              2936 non-null   object \n",
      " 8   director              10822 non-null  object \n",
      " 9   tagline               8042 non-null   object \n",
      " 10  keywords              9373 non-null   object \n",
      " 11  overview              10862 non-null  object \n",
      " 12  runtime               10866 non-null  int64  \n",
      " 13  genres                10843 non-null  object \n",
      " 14  production_companies  9836 non-null   object \n",
      " 15  release_date          10866 non-null  object \n",
      " 16  vote_count            10866 non-null  int64  \n",
      " 17  vote_average          10866 non-null  float64\n",
      " 18  release_year          10866 non-null  int64  \n",
      " 19  budget_adj            10866 non-null  float64\n",
      " 20  revenue_adj           10866 non-null  float64\n",
      "dtypes: float64(4), int64(6), object(11)\n",
      "memory usage: 1.7+ MB\n"
     ]
    }
   ],
   "source": [
    "#here I will get some information about the data set\n",
    "df.info()"
   ]
  },
  {
   "cell_type": "markdown",
   "metadata": {},
   "source": [
    "#  -------------------------------------------------------------------------------------\n",
    "### First let's see the nulls raws in the data set to evaluate if we can drop some of them.\n"
   ]
  },
  {
   "cell_type": "code",
   "execution_count": 6,
   "metadata": {},
   "outputs": [
    {
     "data": {
      "application/vnd.jupyter.widget-view+json": {
       "model_id": "d94b9d95a0b14760b3cb75c08e4c08ad",
       "version_major": 2,
       "version_minor": 0
      },
      "text/plain": [
       "interactive(children=(Dropdown(description='Col', options=('production_companies', 'homepage', 'keywords', 'ta…"
      ]
     },
     "metadata": {},
     "output_type": "display_data"
    }
   ],
   "source": [
    "#this interact function enables me to use the finding nulls function check_null()\n",
    "widgets.interact(check_null, Col=['production_companies','homepage','keywords','tagline','cast','imdb_id']);"
   ]
  },
  {
   "cell_type": "markdown",
   "metadata": {},
   "source": [
    "### let's see the five number summary for the data  and some statistics."
   ]
  },
  {
   "cell_type": "code",
   "execution_count": 7,
   "metadata": {},
   "outputs": [
    {
     "data": {
      "text/html": [
       "<div>\n",
       "<style scoped>\n",
       "    .dataframe tbody tr th:only-of-type {\n",
       "        vertical-align: middle;\n",
       "    }\n",
       "\n",
       "    .dataframe tbody tr th {\n",
       "        vertical-align: top;\n",
       "    }\n",
       "\n",
       "    .dataframe thead th {\n",
       "        text-align: right;\n",
       "    }\n",
       "</style>\n",
       "<table border=\"1\" class=\"dataframe\">\n",
       "  <thead>\n",
       "    <tr style=\"text-align: right;\">\n",
       "      <th></th>\n",
       "      <th>id</th>\n",
       "      <th>popularity</th>\n",
       "      <th>budget</th>\n",
       "      <th>revenue</th>\n",
       "      <th>runtime</th>\n",
       "      <th>vote_count</th>\n",
       "      <th>vote_average</th>\n",
       "      <th>release_year</th>\n",
       "      <th>budget_adj</th>\n",
       "      <th>revenue_adj</th>\n",
       "    </tr>\n",
       "  </thead>\n",
       "  <tbody>\n",
       "    <tr>\n",
       "      <th>count</th>\n",
       "      <td>10866.000000</td>\n",
       "      <td>10866.000000</td>\n",
       "      <td>1.086600e+04</td>\n",
       "      <td>1.086600e+04</td>\n",
       "      <td>10866.000000</td>\n",
       "      <td>10866.000000</td>\n",
       "      <td>10866.000000</td>\n",
       "      <td>10866.000000</td>\n",
       "      <td>1.086600e+04</td>\n",
       "      <td>1.086600e+04</td>\n",
       "    </tr>\n",
       "    <tr>\n",
       "      <th>mean</th>\n",
       "      <td>66064.177434</td>\n",
       "      <td>0.646441</td>\n",
       "      <td>1.462570e+07</td>\n",
       "      <td>3.982332e+07</td>\n",
       "      <td>102.070863</td>\n",
       "      <td>217.389748</td>\n",
       "      <td>5.974922</td>\n",
       "      <td>2001.322658</td>\n",
       "      <td>1.755104e+07</td>\n",
       "      <td>5.136436e+07</td>\n",
       "    </tr>\n",
       "    <tr>\n",
       "      <th>std</th>\n",
       "      <td>92130.136561</td>\n",
       "      <td>1.000185</td>\n",
       "      <td>3.091321e+07</td>\n",
       "      <td>1.170035e+08</td>\n",
       "      <td>31.381405</td>\n",
       "      <td>575.619058</td>\n",
       "      <td>0.935142</td>\n",
       "      <td>12.812941</td>\n",
       "      <td>3.430616e+07</td>\n",
       "      <td>1.446325e+08</td>\n",
       "    </tr>\n",
       "    <tr>\n",
       "      <th>min</th>\n",
       "      <td>5.000000</td>\n",
       "      <td>0.000065</td>\n",
       "      <td>0.000000e+00</td>\n",
       "      <td>0.000000e+00</td>\n",
       "      <td>0.000000</td>\n",
       "      <td>10.000000</td>\n",
       "      <td>1.500000</td>\n",
       "      <td>1960.000000</td>\n",
       "      <td>0.000000e+00</td>\n",
       "      <td>0.000000e+00</td>\n",
       "    </tr>\n",
       "    <tr>\n",
       "      <th>25%</th>\n",
       "      <td>10596.250000</td>\n",
       "      <td>0.207583</td>\n",
       "      <td>0.000000e+00</td>\n",
       "      <td>0.000000e+00</td>\n",
       "      <td>90.000000</td>\n",
       "      <td>17.000000</td>\n",
       "      <td>5.400000</td>\n",
       "      <td>1995.000000</td>\n",
       "      <td>0.000000e+00</td>\n",
       "      <td>0.000000e+00</td>\n",
       "    </tr>\n",
       "    <tr>\n",
       "      <th>50%</th>\n",
       "      <td>20669.000000</td>\n",
       "      <td>0.383856</td>\n",
       "      <td>0.000000e+00</td>\n",
       "      <td>0.000000e+00</td>\n",
       "      <td>99.000000</td>\n",
       "      <td>38.000000</td>\n",
       "      <td>6.000000</td>\n",
       "      <td>2006.000000</td>\n",
       "      <td>0.000000e+00</td>\n",
       "      <td>0.000000e+00</td>\n",
       "    </tr>\n",
       "    <tr>\n",
       "      <th>75%</th>\n",
       "      <td>75610.000000</td>\n",
       "      <td>0.713817</td>\n",
       "      <td>1.500000e+07</td>\n",
       "      <td>2.400000e+07</td>\n",
       "      <td>111.000000</td>\n",
       "      <td>145.750000</td>\n",
       "      <td>6.600000</td>\n",
       "      <td>2011.000000</td>\n",
       "      <td>2.085325e+07</td>\n",
       "      <td>3.369710e+07</td>\n",
       "    </tr>\n",
       "    <tr>\n",
       "      <th>max</th>\n",
       "      <td>417859.000000</td>\n",
       "      <td>32.985763</td>\n",
       "      <td>4.250000e+08</td>\n",
       "      <td>2.781506e+09</td>\n",
       "      <td>900.000000</td>\n",
       "      <td>9767.000000</td>\n",
       "      <td>9.200000</td>\n",
       "      <td>2015.000000</td>\n",
       "      <td>4.250000e+08</td>\n",
       "      <td>2.827124e+09</td>\n",
       "    </tr>\n",
       "  </tbody>\n",
       "</table>\n",
       "</div>"
      ],
      "text/plain": [
       "                  id    popularity        budget       revenue       runtime  \\\n",
       "count   10866.000000  10866.000000  1.086600e+04  1.086600e+04  10866.000000   \n",
       "mean    66064.177434      0.646441  1.462570e+07  3.982332e+07    102.070863   \n",
       "std     92130.136561      1.000185  3.091321e+07  1.170035e+08     31.381405   \n",
       "min         5.000000      0.000065  0.000000e+00  0.000000e+00      0.000000   \n",
       "25%     10596.250000      0.207583  0.000000e+00  0.000000e+00     90.000000   \n",
       "50%     20669.000000      0.383856  0.000000e+00  0.000000e+00     99.000000   \n",
       "75%     75610.000000      0.713817  1.500000e+07  2.400000e+07    111.000000   \n",
       "max    417859.000000     32.985763  4.250000e+08  2.781506e+09    900.000000   \n",
       "\n",
       "         vote_count  vote_average  release_year    budget_adj   revenue_adj  \n",
       "count  10866.000000  10866.000000  10866.000000  1.086600e+04  1.086600e+04  \n",
       "mean     217.389748      5.974922   2001.322658  1.755104e+07  5.136436e+07  \n",
       "std      575.619058      0.935142     12.812941  3.430616e+07  1.446325e+08  \n",
       "min       10.000000      1.500000   1960.000000  0.000000e+00  0.000000e+00  \n",
       "25%       17.000000      5.400000   1995.000000  0.000000e+00  0.000000e+00  \n",
       "50%       38.000000      6.000000   2006.000000  0.000000e+00  0.000000e+00  \n",
       "75%      145.750000      6.600000   2011.000000  2.085325e+07  3.369710e+07  \n",
       "max     9767.000000      9.200000   2015.000000  4.250000e+08  2.827124e+09  "
      ]
     },
     "execution_count": 7,
     "metadata": {},
     "output_type": "execute_result"
    }
   ],
   "source": [
    "#here i will see the five number summary for the data \n",
    "df.describe()"
   ]
  },
  {
   "cell_type": "markdown",
   "metadata": {},
   "source": [
    "### Here we will find the  count of the unique values in each column and identify if there are any duplicated values."
   ]
  },
  {
   "cell_type": "code",
   "execution_count": 8,
   "metadata": {},
   "outputs": [
    {
     "data": {
      "text/plain": [
       "id                      10865\n",
       "imdb_id                 10855\n",
       "popularity              10814\n",
       "budget                    557\n",
       "revenue                  4702\n",
       "original_title          10571\n",
       "cast                    10719\n",
       "homepage                 2896\n",
       "director                 5067\n",
       "tagline                  7997\n",
       "keywords                 8804\n",
       "overview                10847\n",
       "runtime                   247\n",
       "genres                   2039\n",
       "production_companies     7445\n",
       "release_date             5909\n",
       "vote_count               1289\n",
       "vote_average               72\n",
       "release_year               56\n",
       "budget_adj               2614\n",
       "revenue_adj              4840\n",
       "dtype: int64"
      ]
     },
     "execution_count": 8,
     "metadata": {},
     "output_type": "execute_result"
    }
   ],
   "source": [
    "#view the number of unique values in the dataframes columns\n",
    "df.nunique()"
   ]
  },
  {
   "cell_type": "code",
   "execution_count": 9,
   "metadata": {},
   "outputs": [
    {
     "data": {
      "text/html": [
       "<div>\n",
       "<style scoped>\n",
       "    .dataframe tbody tr th:only-of-type {\n",
       "        vertical-align: middle;\n",
       "    }\n",
       "\n",
       "    .dataframe tbody tr th {\n",
       "        vertical-align: top;\n",
       "    }\n",
       "\n",
       "    .dataframe thead th {\n",
       "        text-align: right;\n",
       "    }\n",
       "</style>\n",
       "<table border=\"1\" class=\"dataframe\">\n",
       "  <thead>\n",
       "    <tr style=\"text-align: right;\">\n",
       "      <th></th>\n",
       "      <th>id</th>\n",
       "      <th>imdb_id</th>\n",
       "      <th>popularity</th>\n",
       "      <th>budget</th>\n",
       "      <th>revenue</th>\n",
       "      <th>original_title</th>\n",
       "      <th>cast</th>\n",
       "      <th>homepage</th>\n",
       "      <th>director</th>\n",
       "      <th>tagline</th>\n",
       "      <th>...</th>\n",
       "      <th>overview</th>\n",
       "      <th>runtime</th>\n",
       "      <th>genres</th>\n",
       "      <th>production_companies</th>\n",
       "      <th>release_date</th>\n",
       "      <th>vote_count</th>\n",
       "      <th>vote_average</th>\n",
       "      <th>release_year</th>\n",
       "      <th>budget_adj</th>\n",
       "      <th>revenue_adj</th>\n",
       "    </tr>\n",
       "  </thead>\n",
       "  <tbody>\n",
       "    <tr>\n",
       "      <th>2090</th>\n",
       "      <td>42194</td>\n",
       "      <td>tt0411951</td>\n",
       "      <td>0.59643</td>\n",
       "      <td>30000000</td>\n",
       "      <td>967000</td>\n",
       "      <td>TEKKEN</td>\n",
       "      <td>Jon Foo|Kelly Overton|Cary-Hiroyuki Tagawa|Ian...</td>\n",
       "      <td>NaN</td>\n",
       "      <td>Dwight H. Little</td>\n",
       "      <td>Survival is no game</td>\n",
       "      <td>...</td>\n",
       "      <td>In the year of 2039, after World Wars destroy ...</td>\n",
       "      <td>92</td>\n",
       "      <td>Crime|Drama|Action|Thriller|Science Fiction</td>\n",
       "      <td>Namco|Light Song Films</td>\n",
       "      <td>3/20/10</td>\n",
       "      <td>110</td>\n",
       "      <td>5.0</td>\n",
       "      <td>2010</td>\n",
       "      <td>30000000.0</td>\n",
       "      <td>967000.0</td>\n",
       "    </tr>\n",
       "  </tbody>\n",
       "</table>\n",
       "<p>1 rows × 21 columns</p>\n",
       "</div>"
      ],
      "text/plain": [
       "         id    imdb_id  popularity    budget  revenue original_title  \\\n",
       "2090  42194  tt0411951     0.59643  30000000   967000         TEKKEN   \n",
       "\n",
       "                                                   cast homepage  \\\n",
       "2090  Jon Foo|Kelly Overton|Cary-Hiroyuki Tagawa|Ian...      NaN   \n",
       "\n",
       "              director              tagline  ...  \\\n",
       "2090  Dwight H. Little  Survival is no game  ...   \n",
       "\n",
       "                                               overview runtime  \\\n",
       "2090  In the year of 2039, after World Wars destroy ...      92   \n",
       "\n",
       "                                           genres    production_companies  \\\n",
       "2090  Crime|Drama|Action|Thriller|Science Fiction  Namco|Light Song Films   \n",
       "\n",
       "     release_date vote_count  vote_average  release_year  budget_adj  \\\n",
       "2090      3/20/10        110           5.0          2010  30000000.0   \n",
       "\n",
       "      revenue_adj  \n",
       "2090     967000.0  \n",
       "\n",
       "[1 rows x 21 columns]"
      ]
     },
     "execution_count": 9,
     "metadata": {},
     "output_type": "execute_result"
    }
   ],
   "source": [
    "#here I will call the duplicated row in the data set.\n",
    "df[df.duplicated()==True]\n"
   ]
  },
  {
   "cell_type": "markdown",
   "metadata": {},
   "source": [
    "####  Look at the next Histograms and note that :\n",
    "##### after the year 2010 they produce more movies than before.\n"
   ]
  },
  {
   "cell_type": "code",
   "execution_count": 10,
   "metadata": {},
   "outputs": [
    {
     "data": {
      "image/png": "[encoded data removed]",
      "text/plain": [
       "<Figure size 360x360 with 1 Axes>"
      ]
     },
     "metadata": {
      "needs_background": "light"
     },
     "output_type": "display_data"
    }
   ],
   "source": [
    "df.release_year.hist( bins=15,figsize=(5,5), label = 'good');\n"
   ]
  },
  {
   "cell_type": "markdown",
   "metadata": {},
   "source": [
    "## I found some issues like:\n",
    "\n",
    "#####     .we have 2 unwanted  columns with alot of misssing data ('homepage' and 'tagline').\n",
    "#####     .we have nulls in some culumns.\n",
    "#####     .The column  'release_date' datatype is not date and time.\n",
    "#####     .some values is zero we can fill using interpolate.\n",
    "#####     .we have one dupicated value need to be droped.\n"
   ]
  },
  {
   "cell_type": "markdown",
   "metadata": {},
   "source": [
    "<img src=\"https://i.pinimg.com/736x/24/ab/fe/24abfe29add0647e3c0e82671b778e14.jpg\" width=\"300\"  align=\"right\">\n"
   ]
  },
  {
   "cell_type": "markdown",
   "metadata": {},
   "source": [
    "\n",
    "<img src=\"https://uploads-ssl.webflow.com/5ebeb41e0cdac7c04b3c373a/5f0a0574adf578b75483ab77_Animation_OfficeCleaning-para-web.gif\" width=\"150px\" align=\"left\">\n",
    "<br></br>\n",
    "<br></br>\n",
    "<br></br>\n",
    "<h2>Data Cleaning.</h2>\n",
    "\n"
   ]
  },
  {
   "cell_type": "code",
   "execution_count": 11,
   "metadata": {},
   "outputs": [],
   "source": [
    "#1.drop dupicates\n",
    "df.drop_duplicates(inplace=True)\n",
    "#2.drop the 2 columns i don't nead to avoid shrinking data after dropna\n",
    "df.drop(['homepage','tagline'],axis=1,inplace=True)\n",
    "#3.Drop nulls and restore the index\n",
    "df.dropna(inplace=True)\n",
    "df.reset_index(drop=True, inplace=True)\n",
    "#4.convert the type of release_date to datetime\n",
    "df.release_date = df.release_date.apply(pd.to_datetime)   \n",
    "#5.fill the zeros with the mean depending on the values in the column\n",
    "df.interpolate(inplace=True)"
   ]
  },
  {
   "cell_type": "code",
   "execution_count": 12,
   "metadata": {},
   "outputs": [
    {
     "name": "stdout",
     "output_type": "stream",
     "text": [
      "<class 'pandas.core.frame.DataFrame'>\n",
      "RangeIndex: 8664 entries, 0 to 8663\n",
      "Data columns (total 19 columns):\n",
      " #   Column                Non-Null Count  Dtype         \n",
      "---  ------                --------------  -----         \n",
      " 0   id                    8664 non-null   int64         \n",
      " 1   imdb_id               8664 non-null   object        \n",
      " 2   popularity            8664 non-null   float64       \n",
      " 3   budget                8664 non-null   int64         \n",
      " 4   revenue               8664 non-null   int64         \n",
      " 5   original_title        8664 non-null   object        \n",
      " 6   cast                  8664 non-null   object        \n",
      " 7   director              8664 non-null   object        \n",
      " 8   keywords              8664 non-null   object        \n",
      " 9   overview              8664 non-null   object        \n",
      " 10  runtime               8664 non-null   int64         \n",
      " 11  genres                8664 non-null   object        \n",
      " 12  production_companies  8664 non-null   object        \n",
      " 13  release_date          8664 non-null   datetime64[ns]\n",
      " 14  vote_count            8664 non-null   int64         \n",
      " 15  vote_average          8664 non-null   float64       \n",
      " 16  release_year          8664 non-null   int64         \n",
      " 17  budget_adj            8664 non-null   float64       \n",
      " 18  revenue_adj           8664 non-null   float64       \n",
      "dtypes: datetime64[ns](1), float64(4), int64(6), object(8)\n",
      "memory usage: 1.3+ MB\n"
     ]
    }
   ],
   "source": [
    "#check if there is any issue\n",
    "df.info()"
   ]
  },
  {
   "cell_type": "markdown",
   "metadata": {},
   "source": [
    "<img src=\"https://i.pinimg.com/736x/24/ab/fe/24abfe29add0647e3c0e82671b778e14.jpg\" width=\"300\"  align=\"right\">\n"
   ]
  },
  {
   "cell_type": "markdown",
   "metadata": {},
   "source": [
    "<a id='eda'></a>\n",
    "## Exploratory Data Analysis\n",
    "\n",
    "\n",
    " \n",
    "<img src=\"https://www.servicesca.org/images/0212qm%20(1).gif\" width=\"50px\" align=\"left\">\n",
    "<br></br>\n",
    "<br></br>\n",
    "<h4> Question 1 (Does the revenue depends on the Budget spent!).</h4>\n"
   ]
  },
  {
   "cell_type": "code",
   "execution_count": 13,
   "metadata": {},
   "outputs": [],
   "source": [
    "# First I will group the revenue by year\n",
    "years_rev=df.groupby('release_year')['revenue'].sum()\n",
    "#second I will group the budget by year\n",
    "years_budget=df.groupby('release_year')['budget'].sum()\n",
    "# Finally I will find the net profit\n",
    "profit=years_rev-years_budget"
   ]
  },
  {
   "cell_type": "code",
   "execution_count": 14,
   "metadata": {},
   "outputs": [
    {
     "data": {
      "image/png": "[encoded data removed]",
      "text/plain": [
       "<Figure size 1440x720 with 1 Axes>"
      ]
     },
     "metadata": {
      "needs_background": "light"
     },
     "output_type": "display_data"
    }
   ],
   "source": [
    "years_rev.plot(color='green',alpha=0.7,kind='bar',figsize=(20,10),label='Revenue in  billion $' ,ylabel='Revinue & Budget in  billion $',xlabel='Years',title='Revinue & Budget');\n",
    "years_budget.plot(color='red',kind='bar',figsize=(20,10),label='Budget in  billion $',ylabel='Revinue & Budget in  billion $',xlabel='Years',title='Revinue & Budget');\n",
    "plt.legend();"
   ]
  },
  {
   "cell_type": "markdown",
   "metadata": {},
   "source": [
    "#### As we see here the budget for 2015 as an example  was less than 2013, but the revenue in 2015 is more than 2013."
   ]
  },
  {
   "cell_type": "code",
   "execution_count": 15,
   "metadata": {},
   "outputs": [
    {
     "data": {
      "image/png": "[encoded data removed]",
      "text/plain": [
       "<Figure size 1440x360 with 1 Axes>"
      ]
     },
     "metadata": {
      "needs_background": "light"
     },
     "output_type": "display_data"
    }
   ],
   "source": [
    "profit.plot(style='-s',figsize=(20,5),color='r',ylabel='profit in  billion $',xlabel='Years',label=' profit',title='profit');\n",
    "plt.legend();"
   ]
  },
  {
   "cell_type": "markdown",
   "metadata": {},
   "source": [
    "#### As we see here the profit increasing in 2015 than 2013."
   ]
  },
  {
   "cell_type": "code",
   "execution_count": 16,
   "metadata": {},
   "outputs": [
    {
     "data": {
      "image/png": "[encoded data removed]",
      "text/plain": [
       "<Figure size 1440x720 with 1 Axes>"
      ]
     },
     "metadata": {
      "needs_background": "light"
     },
     "output_type": "display_data"
    }
   ],
   "source": [
    "#check the correlation between budgget and revenue over the years.\n",
    "plt.figure(figsize=(20,10))\n",
    "plt.scatter(x=years_budget,y=years_rev, c='r',s=200, alpha=0.5);\n",
    "plt.gca().update(dict(title='Revinue vs Budget', xlabel='revinue in  billion $', ylabel='bugget in billion $'))\n",
    "plt.show();"
   ]
  },
  {
   "cell_type": "markdown",
   "metadata": {},
   "source": [
    "### Finally the scatter plot said its word....there are no relationship between budget and revenue.\n"
   ]
  },
  {
   "cell_type": "markdown",
   "metadata": {},
   "source": [
    "\n",
    "<img src=\"https://www.servicesca.org/images/0212qm%20(1).gif\" width=\"50px\" align=\"left\">\n",
    "<br></br>\n",
    "<br></br>\n",
    "<h4> Question 2  (Which director used low budget and get high vote average !).</h4>\n"
   ]
  },
  {
   "cell_type": "code",
   "execution_count": 17,
   "metadata": {},
   "outputs": [
    {
     "name": "stdout",
     "output_type": "stream",
     "text": [
      "the median of vote_average is:  6.1\n",
      "the median of budget is:  1500000.0\n"
     ]
    }
   ],
   "source": [
    "#first i will get the median of the two elements \"vote_average\" & \"budget\" allover the dataframe\n",
    "vote_mid=df.vote_average.median()\n",
    "budget_mid=df.budget.median()\n",
    "print( 'the median of vote_average is: ',vote_mid)\n",
    "print( 'the median of budget is: ',budget_mid)\n",
    "\n",
    "# now I will filter the budget column to get the lower budget then filter them by the high vote rate\n",
    "low_budget=df[df.budget < budget_mid]\n",
    "high_votes=low_budget[low_budget['vote_average']<vote_mid]\n"
   ]
  },
  {
   "cell_type": "code",
   "execution_count": 18,
   "metadata": {},
   "outputs": [
    {
     "name": "stdout",
     "output_type": "stream",
     "text": [
      "The director  used low budget and get high vote average is:   Clive Donner\n"
     ]
    }
   ],
   "source": [
    "#create a dataframe contains the maximum vote rate from the lowest budget used\n",
    "max_vote=high_votes['vote_average'].max()\n",
    "high_votes=high_votes[high_votes['vote_average']== max_vote]\n",
    "#most commen director in using low budget and get high votes rate\n",
    "print('The director  used low budget and get high vote average is:  ',high_votes.director.mode()[0])"
   ]
  },
  {
   "cell_type": "markdown",
   "metadata": {},
   "source": [
    "<img src=\"https://i.pinimg.com/736x/24/ab/fe/24abfe29add0647e3c0e82671b778e14.jpg\" width=\"300\"  align=\"right\">\n"
   ]
  },
  {
   "cell_type": "markdown",
   "metadata": {},
   "source": [
    "<a id='conclusions'></a>\n",
    "## Conclusions\n",
    "\n",
    "##### * In this section I will answer the two questions we have,\n",
    "###### * but first we must know that this conclusion depend on just 8664 records of more than 10000 records in the data set.\n",
    "###### * second thing you must know that  all the data set does not represent the whole market but we can use it to predect some answers.\n",
    "###### * in answering the second question we divided the average of votes by median and if we have outliers this value will not divide the data to equals parts.\n",
    "\n",
    "> **Answer for Q1**: Finally, I can say that  the revenue do not depend on budget spent  !\n",
    "\n",
    "> **Answer for Q2**:  I can say that  the most professional director   who used the low budget and his movies get the high vote rate is :  Clive Donner !\n",
    "\n"
   ]
  },
  {
   "cell_type": "markdown",
   "metadata": {},
   "source": [
    "<img src=\"https://i.pinimg.com/736x/24/ab/fe/24abfe29add0647e3c0e82671b778e14.jpg\" width=\"300\"  align=\"right\">\n"
   ]
  },
  {
   "cell_type": "code",
   "execution_count": 110,
   "metadata": {},
   "outputs": [
    {
     "data": {
      "text/plain": [
       "1"
      ]
     },
     "execution_count": 110,
     "metadata": {},
     "output_type": "execute_result"
    }
   ],
   "source": [
    "from subprocess import call\n",
    "call(['python', '-m', 'nbconvert', 'Investigate_a_Dataset.ipynb'])"
   ]
  },
  {
   "cell_type": "markdown",
   "metadata": {},
   "source": [
    "[By: Mohammad Shaaban](https://www.linkedin.com/in/𝕄𝕠𝕙𝕒𝕞𝕞𝕒𝕕-𝕊𝕙𝕒𝕒𝕓𝕒𝕟-𝕄𝕦𝕤𝕥𝕒𝕗𝕒-4b132a110/)"
   ]
  }
 ],
 "metadata": {
  "kernelspec": {
   "display_name": "Python 3",
   "language": "python",
   "name": "python3"
  },
  "language_info": {
   "codemirror_mode": {
    "name": "ipython",
    "version": 3
   },
   "file_extension": ".py",
   "mimetype": "text/x-python",
   "name": "python",
   "nbconvert_exporter": "python",
   "pygments_lexer": "ipython3",
   "version": "3.8.5"
  }
 },
 "nbformat": 4,
 "nbformat_minor": 2
}
